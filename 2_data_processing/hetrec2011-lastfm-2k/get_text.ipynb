{
 "cells": [
  {
   "cell_type": "code",
   "execution_count": 25,
   "metadata": {},
   "outputs": [],
   "source": [
    "import pandas as pd\n",
    "\n",
    "usertag = pd.read_csv('original_data/user_taggedartists-timestamps.dat', sep='\\t')\n",
    "tags = pd.read_csv('original_data/tags.dat', sep='\\t', encoding='latin-1')\n",
    "\n",
    "merged_df = usertag.merge(tags, on=\"tagID\")\n",
    "\n",
    "# Group by artistID and aggregate tags\n",
    "result = merged_df.groupby('artistID').agg({\n",
    "    'tagID': list,\n",
    "    'tagValue': list\n",
    "}).reset_index()\n",
    "\n"
   ]
  },
  {
   "cell_type": "code",
   "execution_count": 29,
   "metadata": {},
   "outputs": [],
   "source": [
    "result['text'] = result['tagValue'].apply(lambda x: \",\".join(sorted(set(map(str, x)))))"
   ]
  },
  {
   "cell_type": "code",
   "execution_count": 31,
   "metadata": {},
   "outputs": [],
   "source": [
    "result = result[['artistID', 'text']]"
   ]
  },
  {
   "cell_type": "code",
   "execution_count": 32,
   "metadata": {},
   "outputs": [
    {
     "data": {
      "text/html": [
       "<div>\n",
       "<style scoped>\n",
       "    .dataframe tbody tr th:only-of-type {\n",
       "        vertical-align: middle;\n",
       "    }\n",
       "\n",
       "    .dataframe tbody tr th {\n",
       "        vertical-align: top;\n",
       "    }\n",
       "\n",
       "    .dataframe thead th {\n",
       "        text-align: right;\n",
       "    }\n",
       "</style>\n",
       "<table border=\"1\" class=\"dataframe\">\n",
       "  <thead>\n",
       "    <tr style=\"text-align: right;\">\n",
       "      <th></th>\n",
       "      <th>artistID</th>\n",
       "      <th>text</th>\n",
       "    </tr>\n",
       "  </thead>\n",
       "  <tbody>\n",
       "    <tr>\n",
       "      <th>0</th>\n",
       "      <td>1</td>\n",
       "      <td>better than lady gaga,gothic,j-rock,japanese,j...</td>\n",
       "    </tr>\n",
       "    <tr>\n",
       "      <th>1</th>\n",
       "      <td>2</td>\n",
       "      <td>ambient,dark,darkwave,electronic,german,gothic...</td>\n",
       "    </tr>\n",
       "    <tr>\n",
       "      <th>2</th>\n",
       "      <td>3</td>\n",
       "      <td>black metal,norsk arysk metal,norwegian black ...</td>\n",
       "    </tr>\n",
       "    <tr>\n",
       "      <th>3</th>\n",
       "      <td>4</td>\n",
       "      <td>bazarov,gothic,gothic japanese,gothic metal,j-...</td>\n",
       "    </tr>\n",
       "    <tr>\n",
       "      <th>4</th>\n",
       "      <td>5</td>\n",
       "      <td>covers,darkwave,deathrock,gothic,gothic rock</td>\n",
       "    </tr>\n",
       "    <tr>\n",
       "      <th>...</th>\n",
       "      <td>...</td>\n",
       "      <td>...</td>\n",
       "    </tr>\n",
       "    <tr>\n",
       "      <th>12518</th>\n",
       "      <td>18737</td>\n",
       "      <td>80s,alternative,electronica,noise,trip beat</td>\n",
       "    </tr>\n",
       "    <tr>\n",
       "      <th>12519</th>\n",
       "      <td>18739</td>\n",
       "      <td>alternative,alternative rock,electronic,electr...</td>\n",
       "    </tr>\n",
       "    <tr>\n",
       "      <th>12520</th>\n",
       "      <td>18740</td>\n",
       "      <td>ebm,industrial</td>\n",
       "    </tr>\n",
       "    <tr>\n",
       "      <th>12521</th>\n",
       "      <td>18741</td>\n",
       "      <td>dead music,experimental</td>\n",
       "    </tr>\n",
       "    <tr>\n",
       "      <th>12522</th>\n",
       "      <td>18744</td>\n",
       "      <td>-pearl fashion music,alternative,ambient,aphex...</td>\n",
       "    </tr>\n",
       "  </tbody>\n",
       "</table>\n",
       "<p>12523 rows × 2 columns</p>\n",
       "</div>"
      ],
      "text/plain": [
       "       artistID                                               text\n",
       "0             1  better than lady gaga,gothic,j-rock,japanese,j...\n",
       "1             2  ambient,dark,darkwave,electronic,german,gothic...\n",
       "2             3  black metal,norsk arysk metal,norwegian black ...\n",
       "3             4  bazarov,gothic,gothic japanese,gothic metal,j-...\n",
       "4             5       covers,darkwave,deathrock,gothic,gothic rock\n",
       "...         ...                                                ...\n",
       "12518     18737        80s,alternative,electronica,noise,trip beat\n",
       "12519     18739  alternative,alternative rock,electronic,electr...\n",
       "12520     18740                                     ebm,industrial\n",
       "12521     18741                            dead music,experimental\n",
       "12522     18744  -pearl fashion music,alternative,ambient,aphex...\n",
       "\n",
       "[12523 rows x 2 columns]"
      ]
     },
     "execution_count": 32,
     "metadata": {},
     "output_type": "execute_result"
    }
   ],
   "source": [
    "result"
   ]
  },
  {
   "cell_type": "code",
   "execution_count": 33,
   "metadata": {},
   "outputs": [],
   "source": [
    "result.to_csv('lfm2k_text.tsv', sep='\\t', index=False)"
   ]
  },
  {
   "cell_type": "code",
   "execution_count": null,
   "metadata": {},
   "outputs": [],
   "source": []
  }
 ],
 "metadata": {
  "kernelspec": {
   "display_name": "base",
   "language": "python",
   "name": "python3"
  },
  "language_info": {
   "codemirror_mode": {
    "name": "ipython",
    "version": 3
   },
   "file_extension": ".py",
   "mimetype": "text/x-python",
   "name": "python",
   "nbconvert_exporter": "python",
   "pygments_lexer": "ipython3",
   "version": "3.9.7"
  }
 },
 "nbformat": 4,
 "nbformat_minor": 2
}
